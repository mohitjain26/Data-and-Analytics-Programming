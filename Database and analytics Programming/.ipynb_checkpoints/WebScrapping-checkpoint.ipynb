{
 "cells": [
  {
   "cell_type": "code",
   "execution_count": 8,
   "metadata": {},
   "outputs": [],
   "source": [
    "from bs4 import BeautifulSoup as soup\n",
    "from urllib.request import urlopen as uReq"
   ]
  },
  {
   "cell_type": "code",
   "execution_count": 9,
   "metadata": {
    "scrolled": false
   },
   "outputs": [
    {
     "name": "stdout",
     "output_type": "stream",
     "text": [
      "40\n"
     ]
    }
   ],
   "source": [
    "my_url = 'https://www.flipkart.com/search?q=iphone&otracker=search&otracker1=search&marketplace=FLIPKART&as-show=on&as=off&as-pos=0&as-type=HISTORY&as-backfill=on'\n",
    "\n",
    "uClient = uReq(my_url)\n",
    "page_html = uClient.read()\n",
    "uClient.close()\n",
    "\n",
    "page_soup = soup(page_html, \"html.parser\")\n",
    "\n",
    "conatiners = page_soup.findAll(\"div\", {\"class\": \"_3liAhj\"})\n",
    "\n",
    "print(len(conatiners))"
   ]
  },
  {
   "cell_type": "code",
   "execution_count": 10,
   "metadata": {},
   "outputs": [
    {
     "name": "stdout",
     "output_type": "stream",
     "text": [
      "<div class=\"_3liAhj\">\n",
      " <a class=\"Zhf2z-\" href=\"/apple-iphone-7-black-32-gb/p/itmen6daftcqwzeg?pid=MOBEMK62PN2HU7EE&amp;lid=LSTMOBEMK62PN2HU7EEINTGNU&amp;marketplace=FLIPKART&amp;srno=s_1_1&amp;otracker=search&amp;otracker1=search&amp;fm=organic&amp;iid=e9f31aee-b87d-4ec8-ab25-da2fa12574ff.MOBEMK62PN2HU7EE.SEARCH&amp;ssid=fnsfq89oq80000001583233656603&amp;qH=0b3f45b266a97d70\" rel=\"noopener noreferrer\" target=\"_blank\">\n",
      "  <div>\n",
      "   <div>\n",
      "    <div class=\"_3BTv9X\" style=\"height:280px;width:200px\">\n",
      "     <img alt=\"Apple iPhone 7 (Black, 32 GB)\" class=\"_1Nyybr\" src=\"//img1a.flixcart.com/www/linchpin/fk-cp-zion/img/placeholder_9951d0.svg\"/>\n",
      "    </div>\n",
      "   </div>\n",
      "  </div>\n",
      "  <div class=\"_3gDSOa _3iGnbq\">\n",
      "   <div class=\"DsQ2eg\">\n",
      "    <svg class=\"_2oLiqr\" height=\"16\" viewbox=\"0 0 20 16\" width=\"16\" xmlns=\"http://www.w3.org/2000/svg\">\n",
      "     <path class=\"_35Y7Yo\" d=\"M8.695 16.682C4.06 12.382 1 9.536 1 6.065 1 3.219 3.178 1 5.95 1c1.566 0 3.069.746 4.05 1.915C10.981 1.745 12.484 1 14.05 1 16.822 1 19 3.22 19 6.065c0 3.471-3.06 6.316-7.695 10.617L10 17.897l-1.305-1.215z\" fill=\"#2874F0\" fill-rule=\"evenodd\" opacity=\".9\" stroke=\"#FFF\">\n",
      "     </path>\n",
      "    </svg>\n",
      "   </div>\n",
      "  </div>\n",
      " </a>\n",
      " <a class=\"_2cLu-l\" href=\"/apple-iphone-7-black-32-gb/p/itmen6daftcqwzeg?pid=MOBEMK62PN2HU7EE&amp;lid=LSTMOBEMK62PN2HU7EEINTGNU&amp;marketplace=FLIPKART&amp;srno=s_1_1&amp;otracker=search&amp;otracker1=search&amp;fm=organic&amp;iid=e9f31aee-b87d-4ec8-ab25-da2fa12574ff.MOBEMK62PN2HU7EE.SEARCH&amp;ssid=fnsfq89oq80000001583233656603&amp;qH=0b3f45b266a97d70\" rel=\"noopener noreferrer\" target=\"_blank\" title=\"Apple iPhone 7 (Black, 32 GB)\">\n",
      "  Apple iPhone 7 (Black, 32 GB)\n",
      " </a>\n",
      " <div class=\"niH0FQ _36Fcw_\">\n",
      "  <span class=\"_2_KrJI\" id=\"productRating_LSTMOBEMK62PN2HU7EEINTGNU_MOBEMK62PN2HU7EE_\">\n",
      "   <div class=\"hGSR34\">\n",
      "    4.5\n",
      "    <img class=\"_2lQ_WZ\" src=\"data:image/svg+xml;base64,PHN2ZyB4bWxucz0iaHR0cDovL3d3dy53My5vcmcvMjAwMC9zdmciIHdpZHRoPSIxMyIgaGVpZ2h0PSIxMiI+PHBhdGggZmlsbD0iI0ZGRiIgZD0iTTYuNSA5LjQzOWwtMy42NzQgMi4yMy45NC00LjI2LTMuMjEtMi44ODMgNC4yNTQtLjQwNEw2LjUuMTEybDEuNjkgNC4wMSA0LjI1NC40MDQtMy4yMSAyLjg4Mi45NCA0LjI2eiIvPjwvc3ZnPg==\"/>\n",
      "   </div>\n",
      "  </span>\n",
      "  <span class=\"_38sUEc\">\n",
      "   (84,452)\n",
      "  </span>\n",
      " </div>\n",
      " <div class=\"_3LWrw9\">\n",
      "  <img height=\"21\" src=\"//img1a.flixcart.com/www/linchpin/fk-cp-zion/img/fa_8b4b59.png\"/>\n",
      " </div>\n",
      " <a class=\"_1Vfi6u\" href=\"/apple-iphone-7-black-32-gb/p/itmen6daftcqwzeg?pid=MOBEMK62PN2HU7EE&amp;lid=LSTMOBEMK62PN2HU7EEINTGNU&amp;marketplace=FLIPKART&amp;srno=s_1_1&amp;otracker=search&amp;otracker1=search&amp;fm=organic&amp;iid=e9f31aee-b87d-4ec8-ab25-da2fa12574ff.MOBEMK62PN2HU7EE.SEARCH&amp;ssid=fnsfq89oq80000001583233656603&amp;qH=0b3f45b266a97d70\" rel=\"noopener noreferrer\" target=\"_blank\">\n",
      "  <div class=\"_1uv9Cb\">\n",
      "   <div class=\"_1vC4OE\">\n",
      "    ₹27,999\n",
      "   </div>\n",
      "   <div class=\"_3auQ3N\">\n",
      "    ₹\n",
      "    <!-- -->\n",
      "    29,900\n",
      "   </div>\n",
      "   <div class=\"VGWI6T\">\n",
      "    <span>\n",
      "     6% off\n",
      "    </span>\n",
      "   </div>\n",
      "  </div>\n",
      " </a>\n",
      " <div class=\"_2nE8_R\">\n",
      "  <div class=\"_3_G5Wj\" style=\"color:#000000;font-size:14px;font-family:inherit;font-weight:normal\">\n",
      "   Upto\n",
      "  </div>\n",
      "  <div class=\"_3_G5Wj\" style=\"color:#000000;font-size:14px;font-family:inherit;font-weight:bold\">\n",
      "   ₹14,050\n",
      "  </div>\n",
      "  <div class=\"_3_G5Wj\" style=\"color:#000000;font-size:14px;font-family:inherit;font-weight:normal\">\n",
      "   Off on Exchange\n",
      "  </div>\n",
      " </div>\n",
      " <div class=\"_3ighFh\">\n",
      "  <div class=\"_34CFgI\">\n",
      "   <div class=\"_1O_CiZ\">\n",
      "    <span class=\"_1iHA1p\">\n",
      "     <div class=\"_2kFyHg\">\n",
      "      <label>\n",
      "       <input class=\"_3uUUD5\" readonly=\"\" type=\"checkbox\"/>\n",
      "       <div class=\"_1p7h2j\">\n",
      "       </div>\n",
      "      </label>\n",
      "     </div>\n",
      "    </span>\n",
      "    <label class=\"_10TB-Q\">\n",
      "     <span>\n",
      "      Add to Compare\n",
      "     </span>\n",
      "    </label>\n",
      "   </div>\n",
      "  </div>\n",
      " </div>\n",
      "</div>\n"
     ]
    }
   ],
   "source": [
    "#Printing the First index using soup\n",
    "#Prettify will bring you HTML in a starcture manner\n",
    "\n",
    "print(soup.prettify(conatiners[0]))"
   ]
  },
  {
   "cell_type": "code",
   "execution_count": 11,
   "metadata": {},
   "outputs": [
    {
     "name": "stdout",
     "output_type": "stream",
     "text": [
      "Apple iPhone 7 (Black, 32 GB)\n"
     ]
    }
   ],
   "source": [
    "#Abstracting the name and image of the product \n",
    "container = conatiners[0]\n",
    "\n",
    "print(container.div.img[\"alt\"]) "
   ]
  },
  {
   "cell_type": "code",
   "execution_count": 28,
   "metadata": {},
   "outputs": [
    {
     "name": "stdout",
     "output_type": "stream",
     "text": [
      "₹27,999₹29,9006% off\n"
     ]
    },
    {
     "data": {
      "text/plain": [
       "'₹27,999'"
      ]
     },
     "execution_count": 28,
     "metadata": {},
     "output_type": "execute_result"
    }
   ],
   "source": [
    "#Scraping Price \n",
    "\n",
    "price = container.findAll(\"div\", {\"class\" : \"_1uv9Cb\"})\n",
    "print(price[0].text)\n",
    "test = price[0].text\n",
    "test1 = test.split(\"₹\")\n",
    "\"₹\" + (test1[1])"
   ]
  },
  {
   "cell_type": "code",
   "execution_count": 15,
   "metadata": {},
   "outputs": [
    {
     "name": "stdout",
     "output_type": "stream",
     "text": [
      "4.5\n"
     ]
    }
   ],
   "source": [
    "#Scraping Rating\n",
    "\n",
    "rating = container.findAll(\"div\", {\"class\" : \"hGSR34\"})\n",
    "print(rating[0].text)"
   ]
  },
  {
   "cell_type": "code",
   "execution_count": 16,
   "metadata": {},
   "outputs": [],
   "source": [
    "#Creating a file to store the data \n",
    "\n",
    "filename = \"product.csv\"\n",
    "f = open(filename,\"w\")"
   ]
  },
  {
   "cell_type": "code",
   "execution_count": 17,
   "metadata": {},
   "outputs": [
    {
     "data": {
      "text/plain": [
       "28"
      ]
     },
     "execution_count": 17,
     "metadata": {},
     "output_type": "execute_result"
    }
   ],
   "source": [
    "#Give the headers to the file \n",
    "\n",
    "headers = \"Product_Name,Pricing,Rating\\n\"\n",
    "f.write(headers)"
   ]
  },
  {
   "cell_type": "code",
   "execution_count": 29,
   "metadata": {},
   "outputs": [
    {
     "name": "stdout",
     "output_type": "stream",
     "text": [
      "Product_name:Apple iPhone 7 (Black, 32 GB)\n",
      "Price:₹27,999₹29,9006% off\n",
      "Rating:4.5\n",
      "Product_name:Apple iPhone 11 (Black, 128 GB)\n",
      "Price:₹69,900\n",
      "Rating:4.7\n",
      "Product_name:Apple iPhone 11 (White, 64 GB)\n",
      "Price:₹64,900\n",
      "Rating:4.7\n"
     ]
    },
    {
     "ename": "TypeError",
     "evalue": "'NoneType' object is not subscriptable",
     "output_type": "error",
     "traceback": [
      "\u001b[1;31m---------------------------------------------------------------------------\u001b[0m",
      "\u001b[1;31mTypeError\u001b[0m                                 Traceback (most recent call last)",
      "\u001b[1;32m<ipython-input-29-59d8d144929e>\u001b[0m in \u001b[0;36m<module>\u001b[1;34m()\u001b[0m\n\u001b[0;32m      1\u001b[0m \u001b[1;32mfor\u001b[0m \u001b[0mcontainer\u001b[0m \u001b[1;32min\u001b[0m \u001b[0mconatiners\u001b[0m\u001b[1;33m:\u001b[0m\u001b[1;33m\u001b[0m\u001b[0m\n\u001b[1;32m----> 2\u001b[1;33m     \u001b[0mproduct_name\u001b[0m \u001b[1;33m=\u001b[0m \u001b[0mcontainer\u001b[0m\u001b[1;33m.\u001b[0m\u001b[0mdiv\u001b[0m\u001b[1;33m.\u001b[0m\u001b[0mimg\u001b[0m\u001b[1;33m[\u001b[0m\u001b[1;34m\"alt\"\u001b[0m\u001b[1;33m]\u001b[0m\u001b[1;33m\u001b[0m\u001b[0m\n\u001b[0m\u001b[0;32m      3\u001b[0m \u001b[1;33m\u001b[0m\u001b[0m\n\u001b[0;32m      4\u001b[0m     \u001b[0mprice_container\u001b[0m \u001b[1;33m=\u001b[0m \u001b[0mcontainer\u001b[0m\u001b[1;33m.\u001b[0m\u001b[0mfindAll\u001b[0m\u001b[1;33m(\u001b[0m\u001b[1;34m\"div\"\u001b[0m\u001b[1;33m,\u001b[0m \u001b[1;33m{\u001b[0m\u001b[1;34m\"class\"\u001b[0m \u001b[1;33m:\u001b[0m \u001b[1;34m\"_1uv9Cb\"\u001b[0m\u001b[1;33m}\u001b[0m\u001b[1;33m)\u001b[0m\u001b[1;33m\u001b[0m\u001b[0m\n\u001b[0;32m      5\u001b[0m     \u001b[0mprice\u001b[0m \u001b[1;33m=\u001b[0m \u001b[0mprice_container\u001b[0m\u001b[1;33m[\u001b[0m\u001b[1;36m0\u001b[0m\u001b[1;33m]\u001b[0m\u001b[1;33m.\u001b[0m\u001b[0mtext\u001b[0m\u001b[1;33m.\u001b[0m\u001b[0mstrip\u001b[0m\u001b[1;33m(\u001b[0m\u001b[1;33m)\u001b[0m\u001b[1;33m\u001b[0m\u001b[0m\n",
      "\u001b[1;31mTypeError\u001b[0m: 'NoneType' object is not subscriptable"
     ]
    }
   ],
   "source": [
    "for container in conatiners:\n",
    "    product_name = container.div.img[\"alt\"]\n",
    "    \n",
    "    price_container = container.findAll(\"div\", {\"class\" : \"_1uv9Cb\"})\n",
    "    price = price_container[0].text.strip()\n",
    "    \n",
    "    rating_conatiner = container.findAll(\"div\", {\"class\" : \"hGSR34\"})\n",
    "    rating = rating_conatiner[0].text\n",
    "    \n",
    "    print(\"Product_name:\" +product_name)\n",
    "    print(\"Price:\" +price)\n",
    "    print(\"Rating:\" +rating)\n"
   ]
  },
  {
   "cell_type": "code",
   "execution_count": null,
   "metadata": {},
   "outputs": [],
   "source": []
  }
 ],
 "metadata": {
  "kernelspec": {
   "display_name": "Python 3",
   "language": "python",
   "name": "python3"
  },
  "language_info": {
   "codemirror_mode": {
    "name": "ipython",
    "version": 3
   },
   "file_extension": ".py",
   "mimetype": "text/x-python",
   "name": "python",
   "nbconvert_exporter": "python",
   "pygments_lexer": "ipython3",
   "version": "3.7.4"
  }
 },
 "nbformat": 4,
 "nbformat_minor": 2
}
